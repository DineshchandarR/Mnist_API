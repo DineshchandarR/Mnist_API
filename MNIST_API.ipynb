{
 "cells": [
  {
   "cell_type": "code",
   "execution_count": 10,
   "metadata": {},
   "outputs": [],
   "source": [
    "#import packages\n",
    "import tensorflow as tf\n",
    "from tensorflow import keras\n",
    "from tensorflow.keras import layers\n",
    "import numpy as np\n",
    "from keras.preprocessing import image\n",
    "from keras.models import model_from_json\n",
    "import flask\n",
    "import PIL\n",
    "from PIL import Image\n",
    "from flask import Flask, request, json, jsonify\n",
    "import io\n",
    "import os"
   ]
  },
  {
   "cell_type": "code",
   "execution_count": 2,
   "metadata": {},
   "outputs": [
    {
     "data": {
      "text/plain": [
       "'2.7.0'"
      ]
     },
     "execution_count": 2,
     "metadata": {},
     "output_type": "execute_result"
    }
   ],
   "source": [
    "tf.__version__"
   ]
  },
  {
   "cell_type": "code",
   "execution_count": 3,
   "id": "1e97d1e7",
   "metadata": {},
   "outputs": [],
   "source": [
    "#Loading the model\n",
    "def modelAct():\n",
    "    json_file = open('mnist.json', 'r')\n",
    "    loaded_model_json = json_file.read()\n",
    "    json_file.close()\n",
    "    model = model_from_json(loaded_model_json)\n",
    "    # load weights into new model\n",
    "    model.load_weights(\"mnist.h5\")\n",
    "    print('model loaded successfully')\n",
    "    return model"
   ]
  },
  {
   "cell_type": "code",
   "execution_count": 4,
   "metadata": {},
   "outputs": [],
   "source": [
    "#Transform Loading\n",
    "def transform_image(pillow_image):\n",
    "    data = np.asarray(pillow_image)\n",
    "    data = data / 255.0\n",
    "    data = data[np.newaxis, ..., np.newaxis]\n",
    "    # --> [1, x, y, 1]\n",
    "    data = tf.image.resize(data, [28, 28])\n",
    "    return data\n"
   ]
  },
  {
   "cell_type": "code",
   "execution_count": 5,
   "metadata": {},
   "outputs": [],
   "source": [
    "#Predict\n",
    "def predict (img_data):\n",
    "    model = modelAct()\n",
    "    prediction = None\n",
    "    result = None\n",
    "    result = model.predict(img_data)\n",
    "    print(np.max(result))\n",
    "    print(result[0])\n",
    "    for i in range(10):\n",
    "        if result[0][i] == np.max(result):\n",
    "            prediction = i\n",
    "            \n",
    "    return prediction"
   ]
  },
  {
   "cell_type": "code",
   "execution_count": 6,
   "metadata": {},
   "outputs": [],
   "source": [
    "# pillow_img = Image.open(\"C:/Users/Dinesh/Desktop/img_11.jpg\").convert('L')\n",
    "# tensor = transform_image(pillow_img)\n",
    "# resultTest = predict(tensor)\n",
    "# print(resultTest)"
   ]
  },
  {
   "cell_type": "code",
   "execution_count": 7,
   "metadata": {},
   "outputs": [],
   "source": [
    "app = Flask(__name__)\n",
    "\n",
    "@app.route (\"/\", methods = [\"GET\",\"POST\"])\n",
    "def index():\n",
    "    welcomeMsg = \"Welcome to MNIST digit analysis, by DINESHCHANDAR RAVICHANDRAN \\n contact me @: dravich@g.g.clemson.edu\\n\"\n",
    "    if request.method == \"POST\":\n",
    "        file = request.files['file']\n",
    "        if file is None or file.filename == \"\":\n",
    "            return jsonify ({\"error\": \"No input found!\"})\n",
    "        else:\n",
    "           \n",
    "            try:\n",
    "                image_bytes = file.read()\n",
    "                pillow_img = Image.open(io.BytesIO(image_bytes)).convert('L')\n",
    "                tensor = transform_image(pillow_img)\n",
    "                prediction = predict(tensor)\n",
    "                result = {\"Prediction\": int(prediction)}\n",
    "                print(result)\n",
    "                return jsonify (welcomeMsg,result)\n",
    "            except Exception as e:\n",
    "                return jsonify (welcomeMsg,{\"error\":str(e)})\n",
    "    else:\n",
    "        return \"Health check: OK\"\n"
   ]
  },
  {
   "cell_type": "code",
   "execution_count": 8,
   "metadata": {},
   "outputs": [],
   "source": [
    "# if __name__ == \"__main__\":\n",
    "#     app.run (debug = False)"
   ]
  },
  {
   "cell_type": "code",
   "execution_count": 12,
   "metadata": {},
   "outputs": [
    {
     "name": "stdout",
     "output_type": "stream",
     "text": [
      " * Serving Flask app '__main__' (lazy loading)\n",
      " * Environment: production\n",
      "\u001b[31m   WARNING: This is a development server. Do not use it in a production deployment.\u001b[0m\n",
      "\u001b[2m   Use a production WSGI server instead.\u001b[0m\n",
      " * Debug mode: off\n"
     ]
    },
    {
     "name": "stderr",
     "output_type": "stream",
     "text": [
      " * Running on all addresses.\n",
      "   WARNING: This is a development server. Do not use it in a production deployment.\n",
      " * Running on http://198.21.214.215:5000/ (Press CTRL+C to quit)\n"
     ]
    },
    {
     "name": "stdout",
     "output_type": "stream",
     "text": [
      "model loaded successfully\n"
     ]
    },
    {
     "name": "stderr",
     "output_type": "stream",
     "text": [
      "198.21.214.215 - - [01/Mar/2022 17:54:29] \"POST /?files HTTP/1.1\" 200 -\n"
     ]
    },
    {
     "name": "stdout",
     "output_type": "stream",
     "text": [
      "0.9999924\n",
      "[1.3896469e-12 1.2993699e-14 3.5029000e-12 1.1937790e-06 1.2706877e-13\n",
      " 9.9999237e-01 2.0406250e-09 3.9402344e-12 2.2929518e-07 6.2280678e-06]\n",
      "{'Prediction': 5}\n"
     ]
    }
   ],
   "source": [
    "if __name__ == \"__main__\":\n",
    " port = int(os.environ.get('PORT', 5000))\n",
    " app.run(debug=False, host='0.0.0.0', port=port)"
   ]
  },
  {
   "cell_type": "code",
   "execution_count": null,
   "metadata": {},
   "outputs": [],
   "source": []
  }
 ],
 "metadata": {
  "interpreter": {
   "hash": "d1d86b2f3ed665d691ce24c615a98bbc398f66743afc4d4e970e6f8b36fab2b9"
  },
  "kernelspec": {
   "display_name": "Python 3.9.7 ('CPSC-8430-DeepLearning')",
   "language": "python",
   "name": "python3"
  },
  "language_info": {
   "codemirror_mode": {
    "name": "ipython",
    "version": 3
   },
   "file_extension": ".py",
   "mimetype": "text/x-python",
   "name": "python",
   "nbconvert_exporter": "python",
   "pygments_lexer": "ipython3",
   "version": "3.9.7"
  },
  "orig_nbformat": 4
 },
 "nbformat": 4,
 "nbformat_minor": 2
}
